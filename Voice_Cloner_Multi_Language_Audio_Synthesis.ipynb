{
  "nbformat": 4,
  "nbformat_minor": 0,
  "metadata": {
    "colab": {
      "provenance": [],
      "gpuType": "T4",
      "authorship_tag": "ABX9TyMTkwtoZiBpnXMjiq+T5S8L",
      "include_colab_link": true
    },
    "kernelspec": {
      "name": "python3",
      "display_name": "Python 3"
    },
    "language_info": {
      "name": "python"
    },
    "accelerator": "GPU"
  },
  "cells": [
    {
      "cell_type": "markdown",
      "metadata": {
        "id": "view-in-github",
        "colab_type": "text"
      },
      "source": [
        "<a href=\"https://colab.research.google.com/github/RashidNoor42/Voice-Cloner-Multi-Language-Audio-Synthesis/blob/main/Voice_Cloner_Multi_Language_Audio_Synthesis.ipynb\" target=\"_parent\"><img src=\"https://colab.research.google.com/assets/colab-badge.svg\" alt=\"Open In Colab\"/></a>"
      ]
    },
    {
      "cell_type": "code",
      "execution_count": 22,
      "metadata": {
        "colab": {
          "base_uri": "https://localhost:8080/"
        },
        "id": "Xcs7J2ECcYln",
        "outputId": "1fdfe556-d757-4bf8-cb5d-9e0230cd918e"
      },
      "outputs": [
        {
          "output_type": "stream",
          "name": "stdout",
          "text": [
            "Requirement already satisfied: gradio_client in /usr/local/lib/python3.12/dist-packages (1.12.1)\n",
            "Requirement already satisfied: fsspec in /usr/local/lib/python3.12/dist-packages (from gradio_client) (2025.3.0)\n",
            "Requirement already satisfied: httpx>=0.24.1 in /usr/local/lib/python3.12/dist-packages (from gradio_client) (0.28.1)\n",
            "Requirement already satisfied: huggingface-hub>=0.19.3 in /usr/local/lib/python3.12/dist-packages (from gradio_client) (0.34.4)\n",
            "Requirement already satisfied: packaging in /usr/local/lib/python3.12/dist-packages (from gradio_client) (25.0)\n",
            "Requirement already satisfied: typing-extensions~=4.0 in /usr/local/lib/python3.12/dist-packages (from gradio_client) (4.15.0)\n",
            "Requirement already satisfied: websockets<16.0,>=10.0 in /usr/local/lib/python3.12/dist-packages (from gradio_client) (15.0.1)\n",
            "Requirement already satisfied: anyio in /usr/local/lib/python3.12/dist-packages (from httpx>=0.24.1->gradio_client) (4.10.0)\n",
            "Requirement already satisfied: certifi in /usr/local/lib/python3.12/dist-packages (from httpx>=0.24.1->gradio_client) (2025.8.3)\n",
            "Requirement already satisfied: httpcore==1.* in /usr/local/lib/python3.12/dist-packages (from httpx>=0.24.1->gradio_client) (1.0.9)\n",
            "Requirement already satisfied: idna in /usr/local/lib/python3.12/dist-packages (from httpx>=0.24.1->gradio_client) (3.10)\n",
            "Requirement already satisfied: h11>=0.16 in /usr/local/lib/python3.12/dist-packages (from httpcore==1.*->httpx>=0.24.1->gradio_client) (0.16.0)\n",
            "Requirement already satisfied: filelock in /usr/local/lib/python3.12/dist-packages (from huggingface-hub>=0.19.3->gradio_client) (3.19.1)\n",
            "Requirement already satisfied: pyyaml>=5.1 in /usr/local/lib/python3.12/dist-packages (from huggingface-hub>=0.19.3->gradio_client) (6.0.2)\n",
            "Requirement already satisfied: requests in /usr/local/lib/python3.12/dist-packages (from huggingface-hub>=0.19.3->gradio_client) (2.32.4)\n",
            "Requirement already satisfied: tqdm>=4.42.1 in /usr/local/lib/python3.12/dist-packages (from huggingface-hub>=0.19.3->gradio_client) (4.67.1)\n",
            "Requirement already satisfied: hf-xet<2.0.0,>=1.1.3 in /usr/local/lib/python3.12/dist-packages (from huggingface-hub>=0.19.3->gradio_client) (1.1.9)\n",
            "Requirement already satisfied: sniffio>=1.1 in /usr/local/lib/python3.12/dist-packages (from anyio->httpx>=0.24.1->gradio_client) (1.3.1)\n",
            "Requirement already satisfied: charset_normalizer<4,>=2 in /usr/local/lib/python3.12/dist-packages (from requests->huggingface-hub>=0.19.3->gradio_client) (3.4.3)\n",
            "Requirement already satisfied: urllib3<3,>=1.21.1 in /usr/local/lib/python3.12/dist-packages (from requests->huggingface-hub>=0.19.3->gradio_client) (2.5.0)\n"
          ]
        }
      ],
      "source": [
        "pip install gradio_client"
      ]
    },
    {
      "cell_type": "code",
      "source": [
        "from huggingface_hub import login\n",
        "\n",
        "login(\"HUGGING_FACE_TOKEN\")"
      ],
      "metadata": {
        "id": "Uht1xxVJhrTi"
      },
      "execution_count": 31,
      "outputs": []
    },
    {
      "cell_type": "code",
      "source": [
        "import torch\n",
        "from huggingface_hub import login\n",
        "from transformers import AutoTokenizer, AutoModelForSequenceClassification\n",
        "from pydub import AudioSegment\n",
        "import soundfile as sf\n",
        "from io import BytesIO\n",
        "\n",
        "login(token=\"HUGGING_FACE_TOKEN\")  # Using your Hugging Face token\n"
      ],
      "metadata": {
        "id": "dLNjc0Bddk-D"
      },
      "execution_count": 47,
      "outputs": []
    },
    {
      "cell_type": "code",
      "source": [
        "from gradio_client import Client, handle_file\n",
        "\n",
        "# Initialize the Client for the Voice-Clone-Multilingual model\n",
        "client = Client(\"quinoad/Voice-Clone-Multilingual\")\n",
        "\n",
        "def clone_voice(text, audio_file, language=\"en\"):\n",
        "    # Make a request to the Voice-Clone-Multilingual model API\n",
        "    result = client.predict(\n",
        "        text=text,  # Text that you want the cloned voice to say\n",
        "        speaker_wav=handle_file(audio_file),  # Path to the input audio file\n",
        "        language=language,  # The language for the cloned voice\n",
        "        api_name=\"/predict\"  # The API endpoint for prediction\n",
        "    )\n",
        "\n",
        "    # Print the result (filepath of the generated audio)\n",
        "    print(\"Generated audio file:\", result)\n",
        "    return result\n",
        "\n",
        "# Example usage\n",
        "text_input = \"When I came into politics, I wanted Pakistan to become the kind of country that our leader Muhammad Ali Jinnah wanted. \\\n",
        "This election is a historic election in Pakistan. In this election, people have sacrificed a lot. There was terrorism in this election.\\\n",
        " I want to especially praise the people of Balochistan, the kind of difficulties that they had to face. The way they came out to vote, \\\n",
        " I want to thank all those people. I saw the scenes on TV, the way the elderly and disabled came out in the heat to vote, the way overseas Pakistanis came out to vote … I want to praise them because they strengthened our democracy. In the run-up to the elections, Ikram Gandapur [candidate] was killed by a suicide bomber. Haroon Bilour [another candidate] was killed in a suicide attack. Despite all that, this election process was completed. I want to thank the security forces … my party members, \\\n",
        "where we had suicide attacks in 10 locations, I want to commend all of them… Thank god we have been successful and got a mandate.\\\n",
        "Briefly, I want to describe the kind of Pakistan I want to see … look, my inspiration is the Prophet Muhammad, the city of Medina that he founded, how it was based on humanity. For the first time, the state was formed based on humanitarianism. That is my inspiration, that Pakistan should have that kind of humanitarian state, where we take responsibility for our weaker classes. The weak are dying of hunger. I will try my best – all of my policies will be made to raise our weaker classes, for our labourers … for our poor farmers, who work all year and get no money … 45 percent of children have stunted growth, they don’t reach the right height, or their brains don’t develop. There are countries with less than 25 million people, \\\n",
        "and we have that many children out of school. My effort will be that we try our best to raise these people up, that all of our policies be focused on human development. I want the whole country to think like this. No country can prosper when there is a small island of rich people, and a sea of poor. I want all of Pakistan to unite. I want to make it clear that anyone who was against us, who voted against us, I think the kind of personal attacks that I have seen, no one has seen those, but I have forgotten all of those, they are behind me. … my cause is far bigger than me. We will not do any kind of political victimising. We will establish supremacy of the law … whoever violates the law, we will act against them. Our state institutions will be so strong that they will stop corruption. Accountability will start with me, then my ministers, and then it will go from there. We will set an example of how the law is the same for everyone. If the West is ahead of us today, it is because their laws are not discriminatory …. this will be our biggest guiding principle.\"\n",
        "audio_path = \"/content/imran_khan_1.mp3\"  # Replace with your audio file path\n",
        "cloned_audio_path = clone_voice(text_input, audio_path)\n",
        "\n",
        "# If you want to save the result\n",
        "output_path = \"cloned_audio.wav\"\n",
        "with open(cloned_audio_path, 'rb') as f_in:\n",
        "    cloned_audio_bytes = f_in.read()\n",
        "\n",
        "with open(output_path, 'wb') as f_out:\n",
        "    f_out.write(cloned_audio_bytes)\n",
        "\n",
        "print(f\"Cloned audio saved as {output_path}\")"
      ],
      "metadata": {
        "colab": {
          "base_uri": "https://localhost:8080/"
        },
        "id": "wCb_yJJLibgY",
        "outputId": "a20a1f95-a094-4917-a865-fff75633437c"
      },
      "execution_count": 49,
      "outputs": [
        {
          "output_type": "stream",
          "name": "stdout",
          "text": [
            "Loaded as API: https://quinoad-voice-clone-multilingual.hf.space ✔\n",
            "Generated audio file: /tmp/gradio/e8155b3761f9b4ac90cc75e76b5777023e7ef2b18c62bcc1d12f9048bacc843d/output.wav\n",
            "Cloned audio saved as cloned_audio.wav\n"
          ]
        }
      ]
    }
  ]
}